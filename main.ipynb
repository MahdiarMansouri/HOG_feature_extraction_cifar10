{
 "cells": [
  {
   "cell_type": "code",
   "execution_count": 14,
   "id": "initial_id",
   "metadata": {
    "collapsed": true,
    "ExecuteTime": {
     "end_time": "2024-01-09T18:41:25.762321500Z",
     "start_time": "2024-01-09T18:41:25.744291Z"
    }
   },
   "outputs": [],
   "source": [
    "import torch \n",
    "import torch.nn as nn\n",
    "import torchvision\n",
    "import torchvision.transforms as transforms\n",
    "\n",
    "from skimage.exposure import exposure\n",
    "from skimage.feature import hog\n",
    "\n",
    "import numpy as np\n",
    "import matplotlib.pyplot as plt\n"
   ]
  },
  {
   "cell_type": "markdown",
   "source": [
    "# Downloading Data"
   ],
   "metadata": {
    "collapsed": false
   },
   "id": "5ef01ecaf5323313"
  },
  {
   "cell_type": "code",
   "execution_count": 20,
   "outputs": [
    {
     "name": "stdout",
     "output_type": "stream",
     "text": [
      "Files already downloaded and verified\n",
      "Files already downloaded and verified\n",
      "DataLoaders Are Ready.\n"
     ]
    }
   ],
   "source": [
    "mean = (0.4914, 0.4822, 0.4465)\n",
    "std = (0.2023, 0.1994, 0.2010)\n",
    "\n",
    "transform = transforms.Compose([\n",
    "    transforms.ToTensor(),\n",
    "    transforms.Normalize(mean, std),\n",
    "    transforms.Grayscale(num_output_channels=1)\n",
    "])\n",
    "\n",
    "# Loading Datasets\n",
    "train_dataset = torchvision.datasets.CIFAR10(root='./data', train=True, transform=transform, download=True)\n",
    "test_dataset = torchvision.datasets.CIFAR10(root='./data', train=False, transform=transform, download=True)\n",
    "\n",
    "# Creating DataLoaders\n",
    "train_loader = torch.utils.data.DataLoader(dataset=train_dataset, batch_size=32, shuffle=True, num_workers=2)\n",
    "test_loader = torch.utils.data.DataLoader(dataset=test_dataset, batch_size=32, shuffle=False, num_workers=2)\n",
    "print('DataLoaders Are Ready.')"
   ],
   "metadata": {
    "collapsed": false,
    "ExecuteTime": {
     "end_time": "2024-01-09T18:54:06.942371500Z",
     "start_time": "2024-01-09T18:54:05.817214100Z"
    }
   },
   "id": "7727b44ab60a0ebc"
  },
  {
   "cell_type": "markdown",
   "source": [
    "# HOG Feature Extraction"
   ],
   "metadata": {
    "collapsed": false
   },
   "id": "9e7b021d72900b68"
  },
  {
   "cell_type": "code",
   "execution_count": 22,
   "outputs": [],
   "source": [
    "# HOG Parameters\n",
    "orientations = 9\n",
    "pixels_per_cell = (8, 8)\n",
    "cells_per_block = (2, 2)\n",
    "block_norm = 'L2-Hys'\n",
    "\n",
    "\n",
    "class HOGFeatureExtractor(nn.Module):\n",
    "    def __init__(self):\n",
    "        super(HOGFeatureExtractor).__init__()\n",
    "        \n",
    "    def forward(self, x):\n",
    "        hog_features_list = []        \n",
    "        # Iterating over data in each batch and extract hog features \n",
    "        for image in x:\n",
    "            # Convert Image to numpy for hog\n",
    "            np_image = image.numpy().squeeze()\n",
    "            hog_features = hog(\n",
    "                np_image,\n",
    "                orientations=orientations,\n",
    "                pixels_per_cell=pixels_per_cell,\n",
    "                cells_per_block=cells_per_block,\n",
    "                block_norm=block_norm\n",
    "            )\n",
    "            hog_features_list.append(hog_features)\n",
    "        return torch.tensor(hog_features_list, dtype=torch.float32)\n"
   ],
   "metadata": {
    "collapsed": false,
    "ExecuteTime": {
     "end_time": "2024-01-09T19:11:44.451211500Z",
     "start_time": "2024-01-09T19:11:44.425212600Z"
    }
   },
   "id": "18cb594d33240960"
  },
  {
   "cell_type": "code",
   "execution_count": null,
   "outputs": [],
   "source": [
    "class Net(nn.Module):\n",
    "    "
   ],
   "metadata": {
    "collapsed": false
   },
   "id": "91d1322ab091488d"
  }
 ],
 "metadata": {
  "kernelspec": {
   "display_name": "Python 3",
   "language": "python",
   "name": "python3"
  },
  "language_info": {
   "codemirror_mode": {
    "name": "ipython",
    "version": 2
   },
   "file_extension": ".py",
   "mimetype": "text/x-python",
   "name": "python",
   "nbconvert_exporter": "python",
   "pygments_lexer": "ipython2",
   "version": "2.7.6"
  }
 },
 "nbformat": 4,
 "nbformat_minor": 5
}
